{
 "cells": [
  {
   "cell_type": "code",
   "execution_count": 1,
   "metadata": {},
   "outputs": [],
   "source": [
    "import pandas as pd\n",
    "import numpy as np"
   ]
  },
  {
   "cell_type": "markdown",
   "metadata": {},
   "source": [
    "Construction de la base de modélisation"
   ]
  },
  {
   "cell_type": "code",
   "execution_count": null,
   "metadata": {},
   "outputs": [],
   "source": [
    "    dfhisto = pd.DataFrame()\n",
    "    for i in range(8):\n",
    "        section = pd.read_csv('C:/Users/Square 769/Documents/SIRENE/072019/StockUniteLegaleHistorique_utf8.csv', \n",
    "                                encoding = 'utf8',\n",
    "                                skiprows = range(1, 10000000 * i),\n",
    "                                nrows = 10000000,\n",
    "                               low_memory = True)\n",
    "        section = section[(section['categorieJuridiqueUniteLegale'] > 5400) & (section['categorieJuridiqueUniteLegale'] < 5500)]\n",
    "        print(i, \"---\", section.shape)\n",
    "        dfhisto = dfhisto.append(section, ignore_index = True)"
   ]
  },
  {
   "cell_type": "code",
   "execution_count": null,
   "metadata": {},
   "outputs": [],
   "source": [
    "dfhisto.to_csv('C:/Users/Square 769/Documents/SIRENE/072019/LEGALUNIT_HISTO_010819.csv', encoding = 'utf-8', index = False)"
   ]
  },
  {
   "cell_type": "code",
   "execution_count": null,
   "metadata": {},
   "outputs": [],
   "source": [
    "# Importer la table Historique\n",
    "dfhisto = pd.read_csv('C:/Users/Square 769/Documents/SIRENE/072019/LEGALUNIT_HISTO_010819.csv', encoding = 'utf-8')\n",
    "dfhisto.head(10)"
   ]
  },
  {
   "cell_type": "code",
   "execution_count": null,
   "metadata": {},
   "outputs": [],
   "source": [
    "dfhisto.shape\n",
    "dfhisto.columns"
   ]
  },
  {
   "cell_type": "code",
   "execution_count": null,
   "metadata": {},
   "outputs": [],
   "source": [
    "dfhisto['dateDebut'] = dfhisto['dateDebut'].astype('str')\n",
    "dfhisto['annee_debut'] = dfhisto['dateDebut'].apply(lambda x: x[:4])"
   ]
  },
  {
   "cell_type": "code",
   "execution_count": null,
   "metadata": {},
   "outputs": [],
   "source": [
    "# Création du SIRET\n",
    "dfhisto['SIRET'] = dfhisto['siren'] * 100000 + dfhisto['nicSiegeUniteLegale']"
   ]
  },
  {
   "cell_type": "code",
   "execution_count": null,
   "metadata": {},
   "outputs": [],
   "source": [
    "dfhisto.columns"
   ]
  },
  {
   "cell_type": "code",
   "execution_count": null,
   "metadata": {},
   "outputs": [],
   "source": [
    "# Extraction dates cessation activité\n",
    "col_ = ['SIRET', 'annee_cessation']\n",
    "\n",
    "cessation = dfhisto[dfhisto['etatAdministratifUniteLegale'] == \"C\"]\n",
    "cessation = cessation[cessation['changementEtatAdministratifUniteLegale'] == True]\n",
    "\n",
    "cessation['annee_cessation'] = cessation['annee_debut']\n",
    "cessation = cessation[col_]\n",
    "cessation.head(10)\n",
    "\n",
    "cessation.index = cessation.SIRET"
   ]
  },
  {
   "cell_type": "code",
   "execution_count": null,
   "metadata": {},
   "outputs": [],
   "source": [
    "# Extraction dates dernier changement de categorie juridique avant 2018\n",
    "col_ = ['SIRET', 'annee_dern_changement_cat_ju']\n",
    "chg_ju = dfhisto[dfhisto['etatAdministratifUniteLegale'] == \"A\"]\n",
    "chg_ju = chg_ju[chg_ju['changementCategorieJuridiqueUniteLegale'] == True]\n",
    "chg_ju['annee_dern_changement_cat_ju'] = chg_ju['annee_debut']\n",
    "# Conserve la variables SIREN, NIC et date de dernier changement de catégorie juridique\n",
    "chg_ju = chg_ju[col_]\n",
    "# Trie par ordre décroissant des dates\n",
    "chg_ju['annee_dern_changement_cat_ju'] = chg_ju['annee_dern_changement_cat_ju'].astype('float64')\n",
    "chg_ju = chg_ju.sort_values(['SIRET', 'annee_dern_changement_cat_ju'], ascending = [1,0])\n",
    "chg_ju = chg_ju[chg_ju['annee_dern_changement_cat_ju'] < 2019]\n",
    "print(chg_ju.shape)\n",
    "# Supprimer les doublons de SIRET\n",
    "chg_ju.drop_duplicates(subset = ['SIRET'], keep = 'first', inplace = True)\n",
    "print(chg_ju.shape)\n",
    "chg_ju.index = chg_ju.SIRET"
   ]
  },
  {
   "cell_type": "code",
   "execution_count": null,
   "metadata": {},
   "outputs": [],
   "source": [
    "# Extraction dates dernier changement activité avant 2018\n",
    "col_ = ['SIRET', 'annee_dern_changement_activite']\n",
    "chg_act = dfhisto[dfhisto['etatAdministratifUniteLegale'] == \"A\"]\n",
    "chg_act = chg_act[chg_act['changementActivitePrincipaleUniteLegale'] == True]\n",
    "chg_act['annee_dern_changement_activite'] = chg_act['annee_debut']\n",
    "# Conserve la variables SIREN, NIC et date de dernier changement d'activité principale\n",
    "chg_act = chg_act[col_]\n",
    "# Trie par ordre décroissant des dates\n",
    "chg_act['annee_dern_changement_activite'] = chg_act['annee_dern_changement_activite'].astype('float64')\n",
    "chg_act = chg_act.sort_values(['SIRET', 'annee_dern_changement_activite'], ascending = [1,0])\n",
    "chg_act = chg_act[chg_act['annee_dern_changement_activite'] < 2019]\n",
    "print(chg_act.shape)\n",
    "# Supprimer les doublons de SIRET\n",
    "chg_act.drop_duplicates(subset = ['SIRET'], keep = 'first', inplace = True)\n",
    "print(chg_act.shape)\n",
    "\n",
    "chg_act.index = chg_act.SIRET"
   ]
  },
  {
   "cell_type": "code",
   "execution_count": null,
   "metadata": {},
   "outputs": [],
   "source": [
    "# Extraction dates dernier changement dénomination légale de l'entreprise avant 2018\n",
    "col_ = ['SIRET', 'annee_dern_changement_denomination']\n",
    "chg_den = dfhisto[dfhisto['etatAdministratifUniteLegale'] == \"A\"]\n",
    "chg_den = chg_den[chg_den['changementDenominationUniteLegale'] == True]\n",
    "chg_den['annee_dern_changement_denomination'] = chg_den['annee_debut']\n",
    "# Conserve la variables SIREN, NIC et date de dernier changement d'activité principale\n",
    "chg_den = chg_den[col_]\n",
    "# Trie par ordre décroissant des dates\n",
    "chg_den['annee_dern_changement_denomination'] = chg_den['annee_dern_changement_denomination'].astype('float64')\n",
    "chg_den = chg_den.sort_values(['SIRET', 'annee_dern_changement_denomination'], ascending = [1,0])\n",
    "chg_den = chg_den[chg_den['annee_dern_changement_denomination'] < 2019]\n",
    "print(chg_den.shape)\n",
    "# Supprimer les doublons de SIRET\n",
    "chg_den.drop_duplicates(subset = ['SIRET'], keep = 'first', inplace = True)\n",
    "print(chg_den.shape)\n",
    "\n",
    "chg_den.index = chg_den.SIRET"
   ]
  },
  {
   "cell_type": "code",
   "execution_count": null,
   "metadata": {},
   "outputs": [],
   "source": [
    "# Extraction dates dernier changement Unité employeuse\n",
    "col_ = ['SIRET', 'annee_dern_changement_emploi']\n",
    "chg_emp = dfhisto[dfhisto['etatAdministratifUniteLegale'] == \"A\"]\n",
    "chg_emp = chg_emp[chg_emp['changementCaractereEmployeurUniteLegale'] == True]\n",
    "chg_emp['annee_dern_changement_emploi'] = chg_emp['annee_debut']\n",
    "# Conserve la variables SIREN, NIC et date de dernier changement d'activité principale\n",
    "chg_emp = chg_emp[col_]\n",
    "# Trie par ordre décroissant des dates\n",
    "chg_emp['annee_dern_changement_emploi'] = chg_emp['annee_dern_changement_emploi'].astype('float64')\n",
    "chg_emp = chg_emp.sort_values(['SIRET', 'annee_dern_changement_emploi'], ascending = [1,0])\n",
    "chg_emp = chg_emp[chg_emp['annee_dern_changement_emploi'] < 2019]\n",
    "print(chg_emp.shape)\n",
    "# Supprimer les doublons de SIRET\n",
    "chg_emp.drop_duplicates(subset = ['SIRET'], keep = 'first', inplace = True)\n",
    "print(chg_emp.shape)\n",
    "\n",
    "chg_emp.index = chg_emp.SIRET"
   ]
  },
  {
   "cell_type": "code",
   "execution_count": null,
   "metadata": {},
   "outputs": [],
   "source": [
    "# Economie sociale et solidaire\n",
    "col_ = ['SIRET', 'annee_dern_eco_sociale']\n",
    "chg_soc = dfhisto[dfhisto['etatAdministratifUniteLegale'] == \"A\"]\n",
    "chg_soc = chg_soc[chg_soc['changementEconomieSocialeSolidaireUniteLegale'] == True]\n",
    "chg_soc['annee_dern_eco_sociale'] = chg_soc['annee_debut']\n",
    "# Conserve la variables SIREN, NIC et date de dernier changement d'activité principale\n",
    "chg_soc = chg_soc[col_]\n",
    "# Trie par ordre décroissant des dates\n",
    "chg_soc['annee_dern_eco_sociale'] = chg_soc['annee_dern_eco_sociale'].astype('float64')\n",
    "chg_soc = chg_soc.sort_values(['SIRET', 'annee_dern_eco_sociale'], ascending = [1,0])\n",
    "print(chg_soc.tail(50))\n",
    "chg_soc = chg_soc[chg_soc['annee_dern_eco_sociale'] < 2019]\n",
    "print(chg_soc.shape)\n",
    "# Supprimer les doublons de SIRET\n",
    "chg_soc.drop_duplicates(subset = ['SIRET'], keep = 'first', inplace = True)\n",
    "print(chg_soc.shape)\n",
    "\n",
    "chg_soc.index = chg_soc.SIRET"
   ]
  },
  {
   "cell_type": "code",
   "execution_count": null,
   "metadata": {},
   "outputs": [],
   "source": [
    "# Récupération du stock des SARL\n",
    "sarl = pd.read_csv('C:/Users/Square 769/Documents/SIRENE/072019/LEGALUNIT_STOCK_010819.csv', encoding = 'utf-8')\n",
    "sarl['SIRET'] = sarl['siren'] * 100000 + sarl['nicSiegeUniteLegale']\n",
    "print(sarl.shape)"
   ]
  },
  {
   "cell_type": "code",
   "execution_count": null,
   "metadata": {},
   "outputs": [],
   "source": [
    "# Supprimer les siren dont la date de création est inconnue\n",
    "sarl = sarl.dropna(subset = ['dateCreationUniteLegale'], axis = 0)\n",
    "print(sarl.shape)\n",
    "# Année de création de l'unité\n",
    "sarl['annee_creation'] = sarl['dateCreationUniteLegale'].apply(lambda x: x[:4])\n",
    "# Exclusion des Unités Légales créées à partir de 2018\n",
    "sarl['annee_creation'] = sarl['annee_creation'].astype('float64')\n",
    "sarl = sarl[sarl['annee_creation'] < 2019]\n",
    "print(sarl.shape)\n",
    "# Exclusion des unités légales pour lesquelles les données historisées ont évolué entre 2018 et 2019\n",
    "sarl['dateDebut'] = sarl['dateDebut'].astype('str')\n",
    "sarl['annee_histo'] = sarl['dateDebut'].apply(lambda x: x[:4])\n",
    "sarl['annee_histo'] = sarl['annee_histo'].astype('float64')\n",
    "sarl = sarl[sarl['annee_histo'] < 2019]\n",
    "print(sarl.shape)"
   ]
  },
  {
   "cell_type": "code",
   "execution_count": null,
   "metadata": {},
   "outputs": [],
   "source": [
    "# Index table sarl SIRET\n",
    "sarl.index = sarl['SIRET']\n",
    "sarl.head(10)"
   ]
  },
  {
   "cell_type": "code",
   "execution_count": null,
   "metadata": {},
   "outputs": [],
   "source": [
    "# Jointure date de cessation d'activité\n",
    "sarl = sarl.join(cessation, rsuffix='_cess')"
   ]
  },
  {
   "cell_type": "code",
   "execution_count": null,
   "metadata": {},
   "outputs": [],
   "source": [
    "# Jointure date dernier changement de catégorie juridique\n",
    "sarl = sarl.join(chg_ju, rsuffix='_ju')"
   ]
  },
  {
   "cell_type": "code",
   "execution_count": null,
   "metadata": {},
   "outputs": [],
   "source": [
    "# Jointure date dernier changement de dénomination\n",
    "sarl = sarl.join(chg_den, rsuffix='_den')"
   ]
  },
  {
   "cell_type": "code",
   "execution_count": null,
   "metadata": {},
   "outputs": [],
   "source": [
    "# Jointure date dernier changement de caractère employeur\n",
    "sarl = sarl.join(chg_emp, rsuffix='_emp')"
   ]
  },
  {
   "cell_type": "code",
   "execution_count": null,
   "metadata": {},
   "outputs": [],
   "source": [
    "# Jointure date dernier changement d'activité principale\n",
    "sarl = sarl.join(chg_act, rsuffix='_act')"
   ]
  },
  {
   "cell_type": "code",
   "execution_count": null,
   "metadata": {},
   "outputs": [],
   "source": [
    "# Jointure date dernier changement économie sociale et solidaire\n",
    "sarl = sarl.join(chg_soc, rsuffix='_soc')"
   ]
  },
  {
   "cell_type": "code",
   "execution_count": null,
   "metadata": {},
   "outputs": [],
   "source": [
    "# Vérification jointure sur 10 cas\n",
    "sarl.head(10)"
   ]
  },
  {
   "cell_type": "code",
   "execution_count": null,
   "metadata": {},
   "outputs": [],
   "source": [
    "sarl = sarl.drop(['SIRET_cess', 'SIRET_ju', 'SIRET_den', 'SIRET_emp', 'SIRET_act', 'SIRET_soc'], axis = 1)"
   ]
  },
  {
   "cell_type": "code",
   "execution_count": null,
   "metadata": {},
   "outputs": [],
   "source": [
    "sarl['annee_cessation'].fillna(2018, inplace = True)"
   ]
  },
  {
   "cell_type": "code",
   "execution_count": null,
   "metadata": {},
   "outputs": [],
   "source": [
    "# Modification du type string to float\n",
    "sarl['annee_cessation'] = sarl['annee_cessation'].astype('float64')\n",
    "sarl['annee_dern_changement_cat_ju'] = sarl['annee_dern_changement_cat_ju'].astype('float64')\n",
    "sarl['annee_dern_changement_activite'] = sarl['annee_dern_changement_activite'].astype('float64')\n",
    "sarl['annee_dern_changement_denomination'] = sarl['annee_dern_changement_denomination'].astype('float64')\n",
    "sarl['annee_dern_changement_emploi'] = sarl['annee_dern_changement_emploi'].astype('float64')\n",
    "sarl['annee_dern_ESS'] = sarl['annee_dern_eco_sociale'].astype('float64')\n",
    "\n",
    "# création des variables ancienneté\n",
    "sarl['anc_der_chg_cat_ju'] = sarl.annee_cessation - sarl.annee_dern_changement_cat_ju\n",
    "sarl['anc_der_chg_act'] = sarl.annee_cessation - sarl.annee_dern_changement_activite\n",
    "sarl['anc_der_chg_den'] = sarl.annee_cessation - sarl.annee_dern_changement_denomination\n",
    "sarl['anc_der_chg_emp'] = sarl.annee_cessation - sarl.annee_dern_changement_emploi\n",
    "sarl['anc_der_chg_ess'] = sarl.annee_cessation - sarl.annee_dern_ESS\n",
    "\n",
    "sarl.head(10)"
   ]
  },
  {
   "cell_type": "code",
   "execution_count": null,
   "metadata": {},
   "outputs": [],
   "source": [
    "# Concaténation des champs Numecnlature et Activité pour jointure avec les tables INSEE\n",
    "sarl['NAF_NON'] = sarl['nomenclatureActivitePrincipaleUniteLegale'] + sarl['activitePrincipaleUniteLegale']\n",
    "sarl.head(10)"
   ]
  },
  {
   "cell_type": "code",
   "execution_count": null,
   "metadata": {},
   "outputs": [],
   "source": [
    "# Entreprises en cessation entre 2008 et 2018 ou encore actives à ce jour. Les entreprises déclarées en cessation d'activité\n",
    "# à partir de 2019 sont exclues de la base de donnée.\n",
    "sarl = sarl[(sarl['annee_cessation'] > 2007) & (sarl['annee_cessation'] < 2019)]\n",
    "sarl.shape"
   ]
  },
  {
   "cell_type": "code",
   "execution_count": null,
   "metadata": {},
   "outputs": [],
   "source": [
    "# Variable ancienneté unité légale avant cessation\n",
    "sarl['annee_creation'] = sarl['annee_creation'].astype('float64')\n",
    "sarl['age_unite_legale'] = sarl.annee_cessation - sarl.annee_creation"
   ]
  },
  {
   "cell_type": "code",
   "execution_count": null,
   "metadata": {},
   "outputs": [],
   "source": [
    "# Exclusion des UL créées en 2019\n",
    "sarl = sarl[sarl['annee_creation'] < 2019]\n",
    "sarl.shape"
   ]
  },
  {
   "cell_type": "code",
   "execution_count": null,
   "metadata": {},
   "outputs": [],
   "source": [
    "sarl['age_unite_legale'].describe()"
   ]
  },
  {
   "cell_type": "code",
   "execution_count": null,
   "metadata": {
    "scrolled": true
   },
   "outputs": [],
   "source": [
    "# Décompte des manquants\n",
    "print(sarl.isna().sum())\n",
    "\n",
    "# Liste des variables inutilisables\n",
    "purge = ['unitePurgeeUniteLegale','sexeUniteLegale','prenom1UniteLegale','prenom2UniteLegale',\n",
    "         'prenom3UniteLegale','prenom4UniteLegale','pseudonymeUniteLegale','identifiantAssociationUniteLegale']\n",
    "\n",
    "sarl = sarl.drop(purge, axis = 1)"
   ]
  },
  {
   "cell_type": "markdown",
   "metadata": {},
   "source": [
    "Représentation Graphique des principales variables descriptives recalculées"
   ]
  },
  {
   "cell_type": "code",
   "execution_count": 41,
   "metadata": {},
   "outputs": [],
   "source": [
    "import matplotlib.pyplot as plt\n",
    "%matplotlib inline\n",
    "import seaborn as sns\n",
    "sns.set() # pour modifier le thème"
   ]
  },
  {
   "cell_type": "code",
   "execution_count": null,
   "metadata": {
    "scrolled": true
   },
   "outputs": [],
   "source": [
    "# Segmentation Age de l'entreprise\n",
    "new_sarl = sarl.reset_index()\n",
    "test_den = pd.cut(new_sarl.age_unite_legale, [-1,6,11,20,999], labels = ['1-<6ans','2-<11ans','3-<20ans','4->20ans'])\n",
    "#test_den = np.where(test_den.isna(),'missing',test_den)\n",
    "\n",
    "new_sarl = new_sarl.join(test_den, rsuffix='_mod')\n",
    "\n",
    "plt.figure(figsize=(8,6))\n",
    "sns.countplot(x = 'age_unite_legale_mod', hue = 'etatAdministratifUniteLegale', data = new_sarl)\n",
    "plt.xlabel(\"Tranches age UL\")\n",
    "plt.ylabel(\"Fréquence\")\n",
    "plt.title(\"Effectifs Unité légale par tranches d'Age\")\n",
    "\n",
    "#print(pd.crosstab(sarl.etatAdministratifUniteLegale, test_den, normalize = 'columns'))\n",
    "#print(pd.crosstab(sarl.etatAdministratifUniteLegale, test_den))\n",
    "\n",
    "#plt.figure(figsize=(15,10))\n",
    "#sns.catplot(x = 'SECTION_NAF', y = 'age_unite_legale', hue = 'etatAdministratifUniteLegale', split = True, kind = 'violin', data = sarl)\n"
   ]
  },
  {
   "cell_type": "code",
   "execution_count": null,
   "metadata": {},
   "outputs": [],
   "source": [
    "plt.figure(figsize=(15,6))\n",
    "sns.countplot(x = 'DEP', hue = 'etatAdministratifUniteLegale', data = sarl)\n",
    "plt.xlabel(\"Section NAF\")\n",
    "plt.ylabel(\"Fréquence\")\n",
    "plt.title(\"Effectifs Unité légale par Section NAF\")"
   ]
  },
  {
   "cell_type": "code",
   "execution_count": null,
   "metadata": {},
   "outputs": [],
   "source": [
    "sarl.info()\n",
    "sarl.to_csv('C:/Users/Square 769/Documents/SIRENE/072019/SARL_STOCK_010819.csv', encoding = 'utf-8', index = False)"
   ]
  },
  {
   "cell_type": "code",
   "execution_count": null,
   "metadata": {},
   "outputs": [],
   "source": [
    "sarl['anc_der_chg_cat_ju'].describe()"
   ]
  },
  {
   "cell_type": "code",
   "execution_count": null,
   "metadata": {},
   "outputs": [],
   "source": [
    "# Segmentation Ancienneté depuis le dernier changement de catégorie juridique\n",
    "new_sarl = sarl.reset_index()\n",
    "test_den = pd.cut(new_sarl.anc_der_chg_cat_ju, [-5,13,24,30,999], labels = ['1-<13ans','2-<24ans','3-<30ans','4->30ans'])\n",
    "#test_den = np.where(test_den.isna(),'missing',test_den)\n",
    "\n",
    "new_sarl = new_sarl.join(test_den, rsuffix='_mod')\n",
    "\n",
    "#new_sarl['anc_der_chg_cat_ju_mod'] = new_sarl['anc_der_chg_cat_ju_mod'].cat.add_categories('Missing')\n",
    "#new_sarl['anc_der_chg_cat_ju_mod'].fillna('Missing', inplace = True)\n",
    "\n",
    "plt.figure(figsize=(8,6))\n",
    "sns.countplot(x = 'anc_der_chg_cat_ju_mod', hue = 'etatAdministratifUniteLegale', data = new_sarl)\n",
    "plt.xlabel(\"Tranches ancienneté\")\n",
    "plt.ylabel(\"Fréquence\")\n",
    "plt.title(\"Effectifs Unité légale par ancienneté depuis le dernier changement de catégorie juridique\")\n",
    "\n",
    "pd.crosstab(sarl.etatAdministratifUniteLegale, test_den, normalize = 'columns')\n",
    "#pd.crosstab(sarl.etatAdministratifUniteLegale, test_den)"
   ]
  },
  {
   "cell_type": "code",
   "execution_count": null,
   "metadata": {},
   "outputs": [],
   "source": [
    "sarl['anc_der_chg_act'].describe()"
   ]
  },
  {
   "cell_type": "code",
   "execution_count": null,
   "metadata": {},
   "outputs": [],
   "source": [
    "# Segmentation Ancienneté depuis le dernier changement d'activité principale\n",
    "new_sarl = sarl.reset_index()\n",
    "test_den = pd.cut(new_sarl.anc_der_chg_act, [-10,8,11,999], labels = ['1-<8ans','2-<11ans','3->11ans'])\n",
    "#test_den = np.where(test_den.isna(),'missing',test_den)\n",
    "\n",
    "new_sarl = new_sarl.join(test_den, rsuffix='_mod')\n",
    "\n",
    "#new_sarl['anc_der_chg_act_mod'] = new_sarl['anc_der_chg_act_mod'].cat.add_categories('Missing')\n",
    "#new_sarl['anc_der_chg_act_mod'].fillna('Missing', inplace = True)\n",
    "\n",
    "plt.figure(figsize=(8,6))\n",
    "sns.countplot(x = 'anc_der_chg_act_mod', hue = 'etatAdministratifUniteLegale', data = new_sarl)\n",
    "plt.xlabel(\"Tranches ancienneté\")\n",
    "plt.ylabel(\"Fréquence\")\n",
    "plt.title(\"Effectifs Unité légale par ancienneté depuis le dernier changement d'activité principale\")\n",
    "\n",
    "print(pd.crosstab(sarl.etatAdministratifUniteLegale, test_den, normalize = 'columns'))\n",
    "print(pd.crosstab(sarl.etatAdministratifUniteLegale, test_den))"
   ]
  },
  {
   "cell_type": "code",
   "execution_count": null,
   "metadata": {},
   "outputs": [],
   "source": [
    "sarl['anc_der_chg_emp'].describe()"
   ]
  },
  {
   "cell_type": "code",
   "execution_count": null,
   "metadata": {},
   "outputs": [],
   "source": [
    "# Segmentation Ancienneté depuis le dernier changement de caractère employeur de l'unité légale\n",
    "new_sarl = sarl.reset_index()\n",
    "test_den = pd.cut(new_sarl.anc_der_chg_emp, [-10,4,8,15,999], labels = ['1-<4ans','2-<8ans','3-<15ans','4->15ans'])\n",
    "#test_den = np.where(test_den.isna(),'missing',test_den)\n",
    "\n",
    "new_sarl = new_sarl.join(test_den, rsuffix='_mod')\n",
    "\n",
    "#new_sarl['anc_der_chg_act_mod'] = new_sarl['anc_der_chg_act_mod'].cat.add_categories('Missing')\n",
    "#new_sarl['anc_der_chg_act_mod'].fillna('Missing', inplace = True)\n",
    "\n",
    "plt.figure(figsize=(8,6))\n",
    "sns.countplot(x = 'anc_der_chg_emp_mod', hue = 'etatAdministratifUniteLegale', data = new_sarl)\n",
    "plt.xlabel(\"Tranches ancienneté\")\n",
    "plt.ylabel(\"Fréquence\")\n",
    "plt.title(\"Effectifs Unité légale par ancienneté depuis le dernier changement de caractère employeur\")\n",
    "\n",
    "print(pd.crosstab(sarl.etatAdministratifUniteLegale, test_den, normalize = 'columns'))\n",
    "print(pd.crosstab(sarl.etatAdministratifUniteLegale, test_den))\n",
    "\n",
    "print(pd.crosstab(sarl.etatAdministratifUniteLegale, sarl.caractereEmployeurUniteLegale, normalize = 'columns'))\n",
    "print(pd.crosstab(sarl.etatAdministratifUniteLegale, sarl.caractereEmployeurUniteLegale))"
   ]
  },
  {
   "cell_type": "code",
   "execution_count": null,
   "metadata": {},
   "outputs": [],
   "source": [
    "sarl['anc_der_chg_den'].describe()"
   ]
  },
  {
   "cell_type": "code",
   "execution_count": null,
   "metadata": {},
   "outputs": [],
   "source": [
    "# Segmentation Ancienneté depuis le dernier changement de caractère employeur de l'unité légale\n",
    "new_sarl = sarl.reset_index()\n",
    "test_den = pd.cut(sarl.anc_der_chg_den, [-10,14,23,30,999], labels = ['1-<14ans','2-<23ans','3-<30ans','4->30ans'])\n",
    "#test_den = np.where(test_den.isna(),'missing',test_den)\n",
    "\n",
    "new_sarl = new_sarl.join(test_den, rsuffix='_mod')\n",
    "\n",
    "#new_sarl['anc_der_chg_act_mod'] = new_sarl['anc_der_chg_act_mod'].cat.add_categories('Missing')\n",
    "#new_sarl['anc_der_chg_act_mod'].fillna('Missing', inplace = True)\n",
    "\n",
    "plt.figure(figsize=(8,6))\n",
    "sns.countplot(x = 'anc_der_chg_den_mod', hue = 'etatAdministratifUniteLegale', data = new_sarl)\n",
    "plt.xlabel(\"Tranches ancienneté\")\n",
    "plt.ylabel(\"Fréquence\")\n",
    "plt.title(\"Effectifs Unité légale par ancienneté depuis le dernier changement de dénomination légale\")\n",
    "\n",
    "print(pd.crosstab(sarl.etatAdministratifUniteLegale, test_den, normalize = 'columns'))\n",
    "print(pd.crosstab(sarl.etatAdministratifUniteLegale, test_den))"
   ]
  },
  {
   "cell_type": "code",
   "execution_count": null,
   "metadata": {},
   "outputs": [],
   "source": [
    "plt.figure(figsize=(8,6))\n",
    "sns.countplot(x = 'caractereEmployeurUniteLegale', hue = 'etatAdministratifUniteLegale', data = sarl)\n",
    "plt.xlabel(\"Tranches ancienneté\")\n",
    "plt.ylabel(\"Fréquence\")\n",
    "plt.title(\"Effectifs Unité légale par ancienneté depuis le dernier changement ESS\")\n",
    "\n",
    "pd.crosstab(sarl.etatAdministratifUniteLegale, sarl.caractereEmployeurUniteLegale, normalize = 'columns')"
   ]
  },
  {
   "cell_type": "code",
   "execution_count": null,
   "metadata": {},
   "outputs": [],
   "source": [
    "print(pd.crosstab(sarl.etatAdministratifUniteLegale, 1, normalize = 'columns'))\n",
    "print(pd.crosstab(sarl.etatAdministratifUniteLegale, 1))"
   ]
  },
  {
   "cell_type": "code",
   "execution_count": null,
   "metadata": {},
   "outputs": [],
   "source": [
    "# Taux de cessation d'activité par années de création\n",
    "test_den = pd.cut(sarl.annee_creation, [0,1950,1990,2000,2005,2010,2015,2020], labels = ['<1950','<1990','<2000','<2005','<2010','<2015','<2020'])\n",
    "test_den = np.where(test_den.isna(),'missing',test_den)\n",
    "\n",
    "print(pd.crosstab(sarl.etatAdministratifUniteLegale, test_den, normalize = 'columns'))\n",
    "print(pd.crosstab(sarl.etatAdministratifUniteLegale, test_den))"
   ]
  },
  {
   "cell_type": "code",
   "execution_count": null,
   "metadata": {},
   "outputs": [],
   "source": [
    "# Jointure avec la table des sections NAF\n",
    "# Récupération du stock des SARL\n",
    "#sarl = pd.read_csv('C:/Users/Square 769/Documents/SIRENE/072019/SARL_STOCK_010819.csv', encoding = 'utf-8')\n",
    "# Récupération de la table de jointure des sections de NAF - liaison avec les sections INSEE\n",
    "NAF = pd.read_csv('C:/Users/Square 769/Documents/SIRENE/072019/SECTION_NAP_to_NAFRev2.csv', encoding = 'utf-8', sep = ';')\n",
    "# Jointure\n",
    "sarl = sarl.set_index('NAF_NON').join(NAF.set_index('NAF_NON'), rsuffix='_NAF')"
   ]
  },
  {
   "cell_type": "code",
   "execution_count": null,
   "metadata": {},
   "outputs": [],
   "source": [
    "print(sarl.isna().sum())\n",
    "# Vérification\n",
    "print(pd.crosstab(sarl.etatAdministratifUniteLegale, sarl.SECTION_NAF, normalize = 'columns'))\n",
    "print(pd.crosstab(sarl.etatAdministratifUniteLegale, sarl.SECTION_NAF))"
   ]
  },
  {
   "cell_type": "markdown",
   "metadata": {},
   "source": [
    "Stockage de la table STOCK après construction d'indicateurs"
   ]
  },
  {
   "cell_type": "code",
   "execution_count": null,
   "metadata": {},
   "outputs": [],
   "source": [
    "sarl.to_csv('C:/Users/Square 769/Documents/SIRENE/072019/SARL_STOCK_010819.csv', encoding = 'utf-8', index = False)"
   ]
  },
  {
   "cell_type": "markdown",
   "metadata": {},
   "source": [
    "Représentation complémentaires"
   ]
  },
  {
   "cell_type": "code",
   "execution_count": 2,
   "metadata": {},
   "outputs": [
    {
     "name": "stderr",
     "output_type": "stream",
     "text": [
      "C:\\Users\\Square 769\\Anaconda3\\lib\\site-packages\\IPython\\core\\interactiveshell.py:3020: DtypeWarning: Columns (5,9,17,18,20,23) have mixed types. Specify dtype option on import or set low_memory=False.\n",
      "  interactivity=interactivity, compiler=compiler, result=result)\n"
     ]
    }
   ],
   "source": [
    "sarl = pd.read_csv('C:/Users/Square 769/Documents/SIRENE/072019/SARL_STOCK_010819.csv', encoding = 'utf-8')"
   ]
  },
  {
   "cell_type": "code",
   "execution_count": 3,
   "metadata": {},
   "outputs": [],
   "source": [
    "import matplotlib.pyplot as plt\n",
    "%matplotlib inline\n",
    "import seaborn as sns\n",
    "sns.set()"
   ]
  },
  {
   "cell_type": "code",
   "execution_count": 7,
   "metadata": {},
   "outputs": [
    {
     "data": {
      "text/plain": [
       "Text(0.5, 1.0, 'Cessation de SARL par année de cessation')"
      ]
     },
     "execution_count": 7,
     "metadata": {},
     "output_type": "execute_result"
    },
    {
     "data": {
      "image/png": "[encoded data removed]",
      "text/plain": [
       "<Figure size 576x432 with 1 Axes>"
      ]
     },
     "metadata": {
      "needs_background": "light"
     },
     "output_type": "display_data"
    }
   ],
   "source": [
    "plt.figure(figsize=(8,6))\n",
    "sarl_c = sarl[sarl['etatAdministratifUniteLegale']=='C']\n",
    "sns.countplot(x = 'annee_cessation', data = sarl_c)\n",
    "plt.xlabel(\"Année Cessation\")\n",
    "plt.ylabel(\"Fréquence\")\n",
    "plt.title(\"Cessation de SARL par année de cessation\")"
   ]
  },
  {
   "cell_type": "code",
   "execution_count": 8,
   "metadata": {},
   "outputs": [
    {
     "name": "stdout",
     "output_type": "stream",
     "text": [
      "annee_cessation               2008.0  2009.0  2010.0  2011.0  2012.0  2013.0  \\\n",
      "etatAdministratifUniteLegale                                                   \n",
      "C                              46361   48060   46995   49768   50980   49758   \n",
      "\n",
      "annee_cessation               2014.0  2015.0  2016.0  2017.0  2018.0  \n",
      "etatAdministratifUniteLegale                                          \n",
      "C                              47739   46738   44020   40450   40846  \n"
     ]
    }
   ],
   "source": [
    "print(pd.crosstab(sarl_c.etatAdministratifUniteLegale, sarl.annee_cessation))"
   ]
  },
  {
   "cell_type": "markdown",
   "metadata": {},
   "source": [
    "Test de Segmentation de variable par KMeans"
   ]
  },
  {
   "cell_type": "code",
   "execution_count": 37,
   "metadata": {},
   "outputs": [],
   "source": [
    "from sklearn.cluster import KMeans\n",
    "import matplotlib.pyplot as plt\n",
    "\n",
    "X_train = test[['age_unite_legale','Etat_C']]\n",
    "\n",
    "from scipy.spatial.distance import cdist\n",
    "\n",
    "distorsions = []\n",
    "\n",
    "for i in np.arange(1,8):\n",
    "    cluster = KMeans(n_clusters = i)\n",
    "    cluster.fit(X_train)\n",
    "    distorsions.append(sum(np.min(cdist(X_train, cluster.cluster_centers_, 'euclidean'), axis = 1)) / np.size(X_train, axis = 0))\n",
    "\n",
    "#pd.crosstab(kmeans.predict(X_train), X_train['Etat_C'], rownames=[\"Pred\"], colnames=[\"Obs\"])"
   ]
  },
  {
   "cell_type": "code",
   "execution_count": 38,
   "metadata": {},
   "outputs": [
    {
     "data": {
      "image/png": "[encoded data removed]",
      "text/plain": [
       "<Figure size 432x288 with 1 Axes>"
      ]
     },
     "metadata": {
      "needs_background": "light"
     },
     "output_type": "display_data"
    }
   ],
   "source": [
    "plt.plot(np.arange(1,8), distorsions)\n",
    "plt.show()"
   ]
  },
  {
   "cell_type": "code",
   "execution_count": 27,
   "metadata": {},
   "outputs": [
    {
     "name": "stderr",
     "output_type": "stream",
     "text": [
      "C:\\Users\\Square 769\\Anaconda3\\lib\\site-packages\\ipykernel_launcher.py:1: SettingWithCopyWarning: \n",
      "A value is trying to be set on a copy of a slice from a DataFrame.\n",
      "Try using .loc[row_indexer,col_indexer] = value instead\n",
      "\n",
      "See the caveats in the documentation: http://pandas.pydata.org/pandas-docs/stable/indexing.html#indexing-view-versus-copy\n",
      "  \"\"\"Entry point for launching an IPython kernel.\n"
     ]
    }
   ],
   "source": [
    "X_train['Pred'] = kmeans.predict(X_train)"
   ]
  },
  {
   "cell_type": "code",
   "execution_count": 31,
   "metadata": {},
   "outputs": [
    {
     "name": "stderr",
     "output_type": "stream",
     "text": [
      "C:\\Users\\Square 769\\Anaconda3\\lib\\site-packages\\pandas\\core\\groupby\\groupby.py:4656: FutureWarning: using a dict with renaming is deprecated and will be removed in a future version\n",
      "  return super(DataFrameGroupBy, self).aggregate(arg, *args, **kwargs)\n"
     ]
    },
    {
     "data": {
      "text/html": [
       "<div>\n",
       "<style scoped>\n",
       "    .dataframe tbody tr th:only-of-type {\n",
       "        vertical-align: middle;\n",
       "    }\n",
       "\n",
       "    .dataframe tbody tr th {\n",
       "        vertical-align: top;\n",
       "    }\n",
       "\n",
       "    .dataframe thead tr th {\n",
       "        text-align: left;\n",
       "    }\n",
       "</style>\n",
       "<table border=\"1\" class=\"dataframe\">\n",
       "  <thead>\n",
       "    <tr>\n",
       "      <th></th>\n",
       "      <th>Pred</th>\n",
       "      <th colspan=\"2\" halign=\"left\">anc_der_chg_cat_ju</th>\n",
       "    </tr>\n",
       "    <tr>\n",
       "      <th></th>\n",
       "      <th></th>\n",
       "      <th>min_anc</th>\n",
       "      <th>max_anc</th>\n",
       "    </tr>\n",
       "  </thead>\n",
       "  <tbody>\n",
       "    <tr>\n",
       "      <th>0</th>\n",
       "      <td>0</td>\n",
       "      <td>-6.0</td>\n",
       "      <td>8.0</td>\n",
       "    </tr>\n",
       "    <tr>\n",
       "      <th>1</th>\n",
       "      <td>1</td>\n",
       "      <td>22.0</td>\n",
       "      <td>31.0</td>\n",
       "    </tr>\n",
       "    <tr>\n",
       "      <th>2</th>\n",
       "      <td>2</td>\n",
       "      <td>32.0</td>\n",
       "      <td>118.0</td>\n",
       "    </tr>\n",
       "    <tr>\n",
       "      <th>3</th>\n",
       "      <td>3</td>\n",
       "      <td>9.0</td>\n",
       "      <td>21.0</td>\n",
       "    </tr>\n",
       "  </tbody>\n",
       "</table>\n",
       "</div>"
      ],
      "text/plain": [
       "  Pred anc_der_chg_cat_ju        \n",
       "                  min_anc max_anc\n",
       "0    0               -6.0     8.0\n",
       "1    1               22.0    31.0\n",
       "2    2               32.0   118.0\n",
       "3    3                9.0    21.0"
      ]
     },
     "execution_count": 31,
     "metadata": {},
     "output_type": "execute_result"
    }
   ],
   "source": [
    "X_train.groupby('Pred', as_index=False).agg({\"anc_der_chg_cat_ju\" : {\"min_anc\" : \"min\", \"max_anc\" : \"max\"}})"
   ]
  },
  {
   "cell_type": "code",
   "execution_count": 43,
   "metadata": {},
   "outputs": [
    {
     "name": "stdout",
     "output_type": "stream",
     "text": [
      "age_unite_legale               1-<6ans  2-<11ans  3-<20ans  4->20ans\n",
      "etatAdministratifUniteLegale                                        \n",
      "A                             0.978694   0.98123  0.984048  0.990402\n",
      "C                             0.021306   0.01877  0.015952  0.009598\n"
     ]
    }
   ],
   "source": [
    "# Segmentation Age de l'entreprise\n",
    "new_sarl = sarl_bis.reset_index()\n",
    "test_den = pd.cut(new_sarl.age_unite_legale, [-1,6,11,20,999], labels = ['1-<6ans','2-<11ans','3-<20ans','4->20ans'])\n",
    "#test_den = np.where(test_den.isna(),'missing',test_den)\n",
    "\n",
    "new_sarl = new_sarl.join(test_den, rsuffix='_mod')\n",
    "\n",
    "print(pd.crosstab(sarl_bis.etatAdministratifUniteLegale, test_den, normalize = 'columns'))"
   ]
  }
 ],
 "metadata": {
  "kernelspec": {
   "display_name": "Python 3",
   "language": "python",
   "name": "python3"
  },
  "language_info": {
   "codemirror_mode": {
    "name": "ipython",
    "version": 3
   },
   "file_extension": ".py",
   "mimetype": "text/x-python",
   "name": "python",
   "nbconvert_exporter": "python",
   "pygments_lexer": "ipython3",
   "version": "3.7.1"
  }
 },
 "nbformat": 4,
 "nbformat_minor": 2
}
